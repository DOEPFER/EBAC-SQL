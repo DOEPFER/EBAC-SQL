{
 "cells": [
  {
   "cell_type": "markdown",
   "id": "16f12b62",
   "metadata": {},
   "source": [
    "# EDA e análise de dados de crédito em SQL"
   ]
  },
  {
   "cell_type": "markdown",
   "id": "5e38743d",
   "metadata": {},
   "source": [
    "#### Exercício para o módulo de SQL do curso EBAC cientista de dados"
   ]
  },
  {
   "cell_type": "markdown",
   "id": "a58bacab",
   "metadata": {},
   "source": [
    "#### Dicionário de dados\n",
    "\n",
    "|Campo| Descrição|\n",
    "|------|-----------------|\n",
    "|idade | idade do cliente|\n",
    "|sexo | sexo do cliente (F ou M)|\n",
    "|dependentes | número de dependentes do cliente|\n",
    "|escolaridade | nível de escolaridade do clientes|\n",
    "|salario_anual | faixa salarial do cliente|\n",
    "|tipo_cartao | tipo de cartao do cliente|\n",
    "|qtd_produtos | quantidade de produtos comprados nos últimos 12 meses|\n",
    "|iteracoes_12m | quantidade de iterações/transacoes nos ultimos 12 meses|\n",
    "|meses_inativo_12m | quantidade de meses que o cliente ficou inativo|\n",
    "|limite_credito | limite de credito do cliente|\n",
    "|valor_transacoes_12m | valor das transações dos ultimos 12 meses|\n",
    "|qtd_transacoes_12m | quantidade de transacoes dos ultimos 12 meses|"
   ]
  },
  {
   "cell_type": "markdown",
   "id": "169a0f93",
   "metadata": {},
   "source": [
    "# Exploratory data analysis (EDA)"
   ]
  },
  {
   "cell_type": "markdown",
   "id": "21292196",
   "metadata": {},
   "source": [
    "#### **QUAL O NÚMERO TOTAL DE REGISTROS NO BANCO DE DADOS?<span>**"
   ]
  },
  {
   "cell_type": "markdown",
   "id": "3fe61a3f",
   "metadata": {},
   "source": [
    "**<span style=\"color: grey\">CONSULTA</span>**"
   ]
  },
  {
   "cell_type": "markdown",
   "id": "57b93a8a",
   "metadata": {},
   "source": [
    "```sql\n",
    "SELECT COUNT(*) FROM credito"
   ]
  },
  {
   "cell_type": "markdown",
   "id": "0a628bce",
   "metadata": {},
   "source": [
    "**<span style=\"color: grey\">RESULTADO<span>**"
   ]
  },
  {
   "cell_type": "markdown",
   "id": "4c3e8554",
   "metadata": {},
   "source": [
    "*2.564 registros*"
   ]
  },
  {
   "cell_type": "markdown",
   "id": "92d032cd",
   "metadata": {},
   "source": [
    "---"
   ]
  },
  {
   "cell_type": "markdown",
   "id": "ff731ba5",
   "metadata": {},
   "source": [
    "#### **EXEMPLO DOS DADOS<span>**"
   ]
  },
  {
   "cell_type": "markdown",
   "id": "7a29d178",
   "metadata": {},
   "source": [
    "**<span style=\"color: grey\">CONSULTA</span>**"
   ]
  },
  {
   "cell_type": "markdown",
   "id": "58d443e9",
   "metadata": {},
   "source": [
    "```sql\n",
    "SELECT * FROM credito LIMIT 5"
   ]
  },
  {
   "cell_type": "markdown",
   "id": "70115997",
   "metadata": {},
   "source": [
    "**<span style=\"color: grey\">RESULTADO<span>**"
   ]
  },
  {
   "cell_type": "markdown",
   "id": "bc19c6d8",
   "metadata": {},
   "source": [
    "![1.png](https://github.com/DOEPFER/EBAC-SQL/blob/master/imgs/1.png?raw=true)"
   ]
  },
  {
   "cell_type": "markdown",
   "id": "6df334e2",
   "metadata": {},
   "source": [
    "---"
   ]
  },
  {
   "cell_type": "markdown",
   "id": "f90375d2",
   "metadata": {},
   "source": [
    "#### **TIPOS DE DADOS<span>**"
   ]
  },
  {
   "cell_type": "markdown",
   "id": "05c9c178",
   "metadata": {},
   "source": [
    "**<span style=\"color: grey\">CONSULTA</span>**"
   ]
  },
  {
   "cell_type": "markdown",
   "id": "e7af6cc0",
   "metadata": {},
   "source": [
    "```sql\n",
    "DESCRIBE credito"
   ]
  },
  {
   "cell_type": "markdown",
   "id": "42b1eda3",
   "metadata": {},
   "source": [
    "**<span style=\"color: grey\">RESULTADO<span>**"
   ]
  },
  {
   "cell_type": "markdown",
   "id": "13502cb9",
   "metadata": {},
   "source": [
    "|Coluna                 |Tipo|\n",
    "|-----------------------|----|\n",
    "|idade               \t|int|                 \t                    \n",
    "|sexo                \t|string|\n",
    "|dependentes         \t|int|             \t                    \n",
    "|escolaridade        \t|string|\n",
    "|estado_civil        \t|string|             \t                    \n",
    "|salario_anual       \t|string|             \t                    \n",
    "|tipo_cartao         \t|string|             \t                    \n",
    "|qtd_produtos        \t|bigint|             \t                    \n",
    "|iteracoes_12m       \t|int|             \t                    \n",
    "|meses_inativo_12m   \t|int|                \t                    \n",
    "|limite_credito      \t|float|\n",
    "|valor_transacoes_12m\t|float|              \t                    \n",
    "|qtd_transacoes_12m  \t|int|"
   ]
  },
  {
   "cell_type": "markdown",
   "id": "046d7010",
   "metadata": {},
   "source": [
    "---"
   ]
  },
  {
   "cell_type": "markdown",
   "id": "19d2bdd5",
   "metadata": {},
   "source": [
    "#### **VALORES MÍNIMOS, MÁXIMOS E ÚNICOS<span>**"
   ]
  },
  {
   "cell_type": "markdown",
   "id": "3714bbd8",
   "metadata": {},
   "source": [
    "**<span style=\"color: grey\">CONSULTAS</span>**"
   ]
  },
  {
   "cell_type": "markdown",
   "id": "c151b39a",
   "metadata": {},
   "source": [
    "```sql\n",
    "idade\n",
    "SELECT MIN(idade) as \"Idade Mínima\", MAX(idade) as \"Idade Máxima\" FROM credito\n",
    "\n",
    "sexo\n",
    "SELECT DISTINCT sexo FROM credito\n",
    "\n",
    "dependentes\n",
    "SELECT MIN(dependentes) as \"Dependentes Mínimo\", MAX(dependentes) as \"Dependentes Máximo\" FROM credito\n",
    "\n",
    "escolaridade\n",
    "SELECT DISTINCT escolaridade FROM credito\n",
    "\n",
    "estado_civil\n",
    "SELECT DISTINCT estado_civil FROM credito\n",
    "\n",
    "salario_anual\n",
    "SELECT DISTINCT salario_anual FROM credito\n",
    "\n",
    "tipo_cartao\n",
    "SELECT DISTINCT tipo_cartao FROM credito\n",
    "\n",
    "qtd_produtos\n",
    "SELECT MIN(qtd_produtos) as \"Qtde. Produtos Mínimo\", MAX(qtd_produtos) as \"Qtde. Produtos Máximo\" FROM credito\n",
    "\n",
    "iteracoes_12m\n",
    "SELECT MIN(iteracoes_12m) as \"Iterações Mínimo\", MAX(iteracoes_12m) as \"Iterações Máximo\" FROM credito\n",
    "\n",
    "meses_inativo_12m\n",
    "SELECT MIN(meses_inativo_12m) as \"Inativo Mínimo\", MAX(meses_inativo_12m) as \"Inativo Máximo\" FROM credito\n",
    "\n",
    "limite_credito\n",
    "SELECT MIN(limite_credito) as \"Limite Mínimo\", MAX(limite_credito) as \"Limite Máximo\" FROM credito\n",
    "\n",
    "valor_transacoes_12m\n",
    "SELECT MIN(valor_transacoes_12m) as \"Valor Transações Mínimo\", MAX(valor_transacoes_12m) as \"Valor Transações Máximo\" FROM credito\n",
    "\n",
    "qtd_transacoes_12m\n",
    "SELECT MIN(qtd_transacoes_12m) as \"Qtde. Transações Mínimo\", MAX(qtd_transacoes_12m) as \"Qtde. Transações Máximo\" FROM credito"
   ]
  },
  {
   "cell_type": "markdown",
   "id": "c8ef7dab",
   "metadata": {},
   "source": [
    "**<span style=\"color: grey\">RESULTADOS<span>**"
   ]
  },
  {
   "cell_type": "markdown",
   "id": "91ea7c18",
   "metadata": {},
   "source": [
    "idade\n",
    "|            |  |\n",
    "|------------|--|\n",
    "|Idade Mínima|26|\n",
    "|Idade Máxima|73|\n",
    "\n",
    "sexo\n",
    "|            |\n",
    "|------------|\n",
    "|F|\n",
    "|M|\n",
    "\n",
    "dependetes\n",
    "|            |  |\n",
    "|------------|--|\n",
    "|Dependentes Mínimo|0|\n",
    "|Dependentes Máximo|5|\n",
    "\n",
    "escolaridade\n",
    "|            |\n",
    "|------------|\n",
    "|sem educacao formal|\n",
    "|mestrado|\n",
    "|graduacao|\n",
    "|doutorado|\n",
    "|na|\n",
    "|ensino medio|\n",
    "\n",
    "estado_civil\n",
    "|            |\n",
    "|------------|\n",
    "|divorciado| \n",
    "|casado| \n",
    "|solteiro| \n",
    "|na|\n",
    "\n",
    "salario_anual\n",
    "|            |\n",
    "|------------|\n",
    "|$60K - $80K|\n",
    "|$40K - $60K|\n",
    "|$120K +|\n",
    "|$80K - $120K|\n",
    "|menos que $40K|\n",
    "|na|\n",
    "\n",
    "tipo_cartao\n",
    "|            |\n",
    "|------------|\n",
    "|silver|\n",
    "|platinum|\n",
    "|blue|\n",
    "|gold|\n",
    "\n",
    "qtd_produtos\n",
    "|            |  |\n",
    "|------------|--|\n",
    "|Qtde. Produtos Mínimo|1|\n",
    "|Qtde. Produtos Máximo|6|\n",
    "\n",
    "iteracoes_12m\n",
    "|            |  |\n",
    "|------------|--|\n",
    "|Iterações Mínimo|0|\n",
    "|Iterações Máximo|5|\n",
    "\n",
    "meses_inativo_12m\n",
    "|            |  |\n",
    "|------------|--|\n",
    "|Inativo Mínimo|0|\n",
    "|Inativo Máximo|6|\n",
    "\n",
    "limite_credito\n",
    "|            |  |\n",
    "|------------|--|\n",
    "|Limite Mínimo|1438.03|\n",
    "|Limite Máximo|34516.99|\n",
    "\n",
    "valor_transacoes_12m\n",
    "|            |  |\n",
    "|------------|--|\n",
    "|Valor Transações Mínimo|510.16|\n",
    "|Valor Transações Máximo|4776.58|\n",
    "\n",
    "qtd_transacoes_12m\n",
    "|            |  |\n",
    "|------------|--|\n",
    "|Qtde. Transações Mínimo|10|\n",
    "|Qtde. Transações Máximo|103|"
   ]
  },
  {
   "cell_type": "markdown",
   "id": "d5b00c76",
   "metadata": {},
   "source": [
    "---"
   ]
  },
  {
   "cell_type": "markdown",
   "id": "74e2c496",
   "metadata": {},
   "source": [
    "# Data analysis"
   ]
  },
  {
   "cell_type": "markdown",
   "id": "026c25d3",
   "metadata": {},
   "source": [
    "#### **QUAL O VALOR MÉDIO DAS TRANSAÇÕES NOS ÚLTIMOS 12 MESES POR FAIXA ETÁRIA?<span>**"
   ]
  },
  {
   "cell_type": "markdown",
   "id": "732bef0e",
   "metadata": {},
   "source": [
    "**<span style=\"color: grey\">CONSULTA</span>**"
   ]
  },
  {
   "cell_type": "markdown",
   "id": "b44a34ee",
   "metadata": {},
   "source": [
    "```sql\n",
    "WITH idade_ranges AS (\n",
    "    SELECT\n",
    "        idade,\n",
    "        CASE\n",
    "            WHEN idade BETWEEN 26 AND 41 THEN '26-41'\n",
    "            WHEN idade BETWEEN 42 AND 56 THEN '42-56'\n",
    "            WHEN idade >= 57 THEN '57-73'\n",
    "        END AS idade_range,\n",
    "        valor_transacoes_12m\n",
    "    FROM credito\n",
    ")\n",
    "SELECT\n",
    "    idade_range,\n",
    "    AVG(valor_transacoes_12m)\n",
    "FROM idade_ranges\n",
    "GROUP BY idade_range\n",
    "ORDER BY idade_range"
   ]
  },
  {
   "cell_type": "markdown",
   "id": "07528e66",
   "metadata": {},
   "source": [
    "**<span style=\"color: grey\">RESULTADO<span>**"
   ]
  },
  {
   "cell_type": "markdown",
   "id": "450d6e30",
   "metadata": {},
   "source": [
    "|Faixa etária|Valor médio|\n",
    "|------------|--|\n",
    "|26-41| 2075.152|\n",
    "|42-56| 1683.5591|\n",
    "|57-73| 1639.663|"
   ]
  },
  {
   "cell_type": "markdown",
   "id": "90861b79",
   "metadata": {},
   "source": [
    "**<span style=\"color: grey\">INSIGHT<span>**"
   ]
  },
  {
   "cell_type": "markdown",
   "id": "c2d0eff9",
   "metadata": {},
   "source": [
    "*<span style=\"color: orange\">Quanto maior a faixa etária menor o valor médio nos últimos 12 meses</span>*"
   ]
  },
  {
   "cell_type": "markdown",
   "id": "3338d382",
   "metadata": {},
   "source": [
    "---"
   ]
  },
  {
   "cell_type": "markdown",
   "id": "ca6d279a",
   "metadata": {},
   "source": [
    "#### **QUAL O NÚMERO DE TRANSAÇÕES MÉDIA NOS ÚLTIMOS 12 MESES POR FAIXA ETÁRIA?<span>**"
   ]
  },
  {
   "cell_type": "markdown",
   "id": "d6273556",
   "metadata": {},
   "source": [
    "**<span style=\"color: grey\">CONSULTA</span>**"
   ]
  },
  {
   "cell_type": "markdown",
   "id": "5b86dfad",
   "metadata": {},
   "source": [
    "```sql\n",
    "WITH idade_ranges AS (\n",
    "    SELECT\n",
    "        idade,\n",
    "        CASE\n",
    "            WHEN idade BETWEEN 26 AND 41 THEN '26-41'\n",
    "            WHEN idade BETWEEN 42 AND 56 THEN '42-56'\n",
    "            WHEN idade >= 57 THEN '57-73'\n",
    "        END AS idade_range,\n",
    "        qtd_transacoes_12m\n",
    "    FROM credito\n",
    ")\n",
    "SELECT\n",
    "    idade_range,\n",
    "    AVG(qtd_transacoes_12m)\n",
    "FROM idade_ranges\n",
    "GROUP BY idade_range\n",
    "ORDER BY idade_range"
   ]
  },
  {
   "cell_type": "markdown",
   "id": "7683948e",
   "metadata": {},
   "source": [
    "**<span style=\"color: grey\">RESULTADO<span>**"
   ]
  },
  {
   "cell_type": "markdown",
   "id": "db06594a",
   "metadata": {},
   "source": [
    "|Faixa etária|Transações média|\n",
    "|------------|--|\n",
    "|26-41| 46.72127659574468|\n",
    "|42-56| 39.06519967400163|\n",
    "|57-73| 37.9823677581864|"
   ]
  },
  {
   "cell_type": "markdown",
   "id": "66e39155",
   "metadata": {},
   "source": [
    "**<span style=\"color: grey\">INSIGHT<span>**"
   ]
  },
  {
   "cell_type": "markdown",
   "id": "6b722872",
   "metadata": {},
   "source": [
    "*<span style=\"color: orange\">Quanto maior a faixa etária menor o número de transações média nos últimos 12 meses</span>*"
   ]
  },
  {
   "cell_type": "markdown",
   "id": "c2a70928",
   "metadata": {},
   "source": [
    "---"
   ]
  },
  {
   "cell_type": "markdown",
   "id": "311edd44",
   "metadata": {},
   "source": [
    "#### **QUAL O VALOR MÉDIO DAS TRANSAÇÕES NOS ÚLTIMOS 12 MESES POR SEXO?<span>**"
   ]
  },
  {
   "cell_type": "markdown",
   "id": "5c0f5665",
   "metadata": {},
   "source": [
    "**<span style=\"color: grey\">CONSULTA</span>**"
   ]
  },
  {
   "cell_type": "markdown",
   "id": "3cf9c4b7",
   "metadata": {},
   "source": [
    "```sql\n",
    "SELECT sexo, AVG(valor_transacoes_12m) FROM credito GROUP BY sexo"
   ]
  },
  {
   "cell_type": "markdown",
   "id": "3ca739a2",
   "metadata": {},
   "source": [
    "**<span style=\"color: grey\">RESULTADO<span>**"
   ]
  },
  {
   "cell_type": "markdown",
   "id": "2d7e628d",
   "metadata": {},
   "source": [
    "|Sexo|Valor médio|\n",
    "|------------|--|\n",
    "|F| 1839.6226|\n",
    "|M| 1807.968|"
   ]
  },
  {
   "cell_type": "markdown",
   "id": "687c01d6",
   "metadata": {},
   "source": [
    "**<span style=\"color: grey\">INSIGHT<span>**"
   ]
  },
  {
   "cell_type": "markdown",
   "id": "fef61b68",
   "metadata": {},
   "source": [
    "*<span style=\"color: orange\">Sexo masculino tende a gasta menos que sexo feminino, por uma diferença pouco relevante</span>*"
   ]
  },
  {
   "cell_type": "markdown",
   "id": "fd8fbe7b",
   "metadata": {},
   "source": [
    "---"
   ]
  },
  {
   "cell_type": "markdown",
   "id": "6f4db2dd",
   "metadata": {},
   "source": [
    "#### **QUAL O NÚMERO DE TRANSAÇÕES MÉDIA NOS ÚLTIMOS 12 MESES POR SEXO?<span>**"
   ]
  },
  {
   "cell_type": "markdown",
   "id": "4af9c9af",
   "metadata": {},
   "source": [
    "**<span style=\"color: grey\">CONSULTA</span>**"
   ]
  },
  {
   "cell_type": "markdown",
   "id": "891981e1",
   "metadata": {},
   "source": [
    "```sql\n",
    "SELECT sexo, AVG(qtd_transacoes_12m) FROM credito GROUP BY sexo"
   ]
  },
  {
   "cell_type": "markdown",
   "id": "218608bf",
   "metadata": {},
   "source": [
    "**<span style=\"color: grey\">RESULTADO<span>**"
   ]
  },
  {
   "cell_type": "markdown",
   "id": "4520089f",
   "metadata": {},
   "source": [
    "|Sexo|Valor médio|\n",
    "|------------|--|\n",
    "|F| 42.28371628371628|\n",
    "|M| 41.333333333333336|"
   ]
  },
  {
   "cell_type": "markdown",
   "id": "41815eb2",
   "metadata": {},
   "source": [
    "**<span style=\"color: grey\">INSIGHT<span>**"
   ]
  },
  {
   "cell_type": "markdown",
   "id": "2049b68e",
   "metadata": {},
   "source": [
    "*<span style=\"color: orange\">Sexo masculino tende a realizar menos transações que sexo feminino, por uma diferença pouco relevante</span>*"
   ]
  },
  {
   "cell_type": "markdown",
   "id": "467a5e59",
   "metadata": {},
   "source": [
    "---"
   ]
  },
  {
   "cell_type": "markdown",
   "id": "5fb75f2e",
   "metadata": {},
   "source": [
    "#### **QUAL O VALOR MÉDIO E QUANTIDADE DE TRANSAÇÕES NOS ÚLTIMOS 12 MESES POR ESCOLARIDADE?<span>**"
   ]
  },
  {
   "cell_type": "markdown",
   "id": "c60fefdb",
   "metadata": {},
   "source": [
    "**<span style=\"color: grey\">CONSULTA</span>**"
   ]
  },
  {
   "cell_type": "markdown",
   "id": "373642a9",
   "metadata": {},
   "source": [
    "```sql\n",
    "SELECT escolaridade, AVG(valor_transacoes_12m) AS valor_12m, AVG(qtd_transacoes_12m) AS qtde_12m FROM credito GROUP BY escolaridade"
   ]
  },
  {
   "cell_type": "markdown",
   "id": "a9efca0b",
   "metadata": {},
   "source": [
    "**<span style=\"color: grey\">RESULTADO<span>**"
   ]
  },
  {
   "cell_type": "markdown",
   "id": "3e3426e5",
   "metadata": {},
   "source": [
    "![2.png](https://github.com/DOEPFER/EBAC-SQL/blob/master/imgs/2.png?raw=true)"
   ]
  },
  {
   "cell_type": "markdown",
   "id": "ebe17e34",
   "metadata": {},
   "source": [
    "**<span style=\"color: grey\">INSIGHT<span>**"
   ]
  },
  {
   "cell_type": "markdown",
   "id": "7eb455a9",
   "metadata": {},
   "source": [
    "*<span style=\"color: orange\">Clientes com escolaridade ensino médio tendem a gastar menos que demais niveis escolares</span>*"
   ]
  },
  {
   "cell_type": "markdown",
   "id": "fef3cf37",
   "metadata": {},
   "source": [
    "---"
   ]
  },
  {
   "cell_type": "markdown",
   "id": "e63bedbe",
   "metadata": {},
   "source": [
    "#### **QUAL O VALOR MÉDIO E QUANTIDADE DE TRANSAÇÕES NOS ÚLTIMOS 12 MESES POR FAIXA SALARIAL?<span>**"
   ]
  },
  {
   "cell_type": "markdown",
   "id": "e8926cc5",
   "metadata": {},
   "source": [
    "**<span style=\"color: grey\">CONSULTA</span>**"
   ]
  },
  {
   "cell_type": "markdown",
   "id": "1bbff75d",
   "metadata": {},
   "source": [
    "```sql\n",
    "SELECT salario_anual, AVG(valor_transacoes_12m) AS valor_12m, AVG(qtd_transacoes_12m) AS qtde_12m FROM credito GROUP BY salario_anual ORDER BY valor_12m"
   ]
  },
  {
   "cell_type": "markdown",
   "id": "a80bd1e4",
   "metadata": {},
   "source": [
    "**<span style=\"color: grey\">RESULTADO<span>**"
   ]
  },
  {
   "cell_type": "markdown",
   "id": "3e8423b8",
   "metadata": {},
   "source": [
    "![3.png](https://github.com/DOEPFER/EBAC-SQL/blob/master/imgs/3.png?raw=true)"
   ]
  },
  {
   "cell_type": "markdown",
   "id": "e9dce347",
   "metadata": {},
   "source": [
    "**<span style=\"color: grey\">INSIGHT<span>**"
   ]
  },
  {
   "cell_type": "markdown",
   "id": "f1f1ef06",
   "metadata": {},
   "source": [
    "*<span style=\"color: orange\">Clientes das faixas salariais acima de 80k gastaram menos nos últimos 12 meses e realizaram menos transações</span>*"
   ]
  },
  {
   "cell_type": "markdown",
   "id": "28c4bc06",
   "metadata": {},
   "source": [
    "---"
   ]
  },
  {
   "cell_type": "markdown",
   "id": "db70def9",
   "metadata": {},
   "source": [
    "#### **QUAL O VALOR MÉDIO E QUANTIDADE DE TRANSAÇÕES NOS ÚLTIMOS 12 MESES POR TIPO DE CARTÃO?<span>**"
   ]
  },
  {
   "cell_type": "markdown",
   "id": "62aabddd",
   "metadata": {},
   "source": [
    "**<span style=\"color: grey\">CONSULTA</span>**"
   ]
  },
  {
   "cell_type": "markdown",
   "id": "593bfb32",
   "metadata": {},
   "source": [
    "```sql\n",
    "SELECT tipo_cartao, AVG(valor_transacoes_12m) AS valor_12m, AVG(qtd_transacoes_12m) AS qtde_12m FROM credito GROUP BY tipo_cartao ORDER BY valor_12m"
   ]
  },
  {
   "cell_type": "markdown",
   "id": "65e604ae",
   "metadata": {},
   "source": [
    "**<span style=\"color: grey\">RESULTADO<span>**"
   ]
  },
  {
   "cell_type": "markdown",
   "id": "e9006c15",
   "metadata": {},
   "source": [
    "![4.png](https://github.com/DOEPFER/EBAC-SQL/blob/master/imgs/4.png?raw=true)"
   ]
  },
  {
   "cell_type": "markdown",
   "id": "f1931e62",
   "metadata": {},
   "source": [
    "**<span style=\"color: grey\">INSIGHT<span>**"
   ]
  },
  {
   "cell_type": "markdown",
   "id": "4ee83f86",
   "metadata": {},
   "source": [
    "*<span style=\"color: orange\">Clientes da bandeira platinum são os que menos gastam em relaçao as demais bandeiras</span>*"
   ]
  },
  {
   "cell_type": "markdown",
   "id": "d67e69b5",
   "metadata": {},
   "source": [
    "---"
   ]
  },
  {
   "cell_type": "markdown",
   "id": "9d7e4ced",
   "metadata": {},
   "source": [
    "#### **QUAL O VALOR MÉDIO E QUANTIDADE DE TRANSAÇÕES NOS ÚLTIMOS 12 MESES POR LIMITE DE CRÉDITO?<span>**"
   ]
  },
  {
   "cell_type": "markdown",
   "id": "2ef3f414",
   "metadata": {},
   "source": [
    "**<span style=\"color: grey\">CONSULTA</span>**"
   ]
  },
  {
   "cell_type": "markdown",
   "id": "0925af84",
   "metadata": {},
   "source": [
    "```sql\n",
    "WITH limites AS (\n",
    "    SELECT\n",
    "        limite_credito,\n",
    "        CASE\n",
    "            WHEN limite_credito BETWEEN 1400.0 AND 4760.0 THEN '1.400 - 4.760'\n",
    "            WHEN limite_credito BETWEEN 4760.001 AND 8120.0 THEN '4.761 - 8.120'\n",
    "            WHEN limite_credito BETWEEN 8120.001 AND 11480.0 THEN '8.121 - 11.480'\n",
    "            WHEN limite_credito BETWEEN 11480.001 AND 14840.0 THEN '11.481 - 14.840'\n",
    "            WHEN limite_credito BETWEEN 14840.001 AND 18200.0 THEN '14.841 - 18.200'\n",
    "            WHEN limite_credito BETWEEN 18200.001 AND 21560.0 THEN '18.201 - 21.560'\n",
    "            WHEN limite_credito BETWEEN 21560.001 AND 24920.0 THEN '21.561 - 24.920'\n",
    "            WHEN limite_credito BETWEEN 24920.001 AND 28280.0 THEN '24.921 - 28.280'\n",
    "            WHEN limite_credito BETWEEN 28280.001 AND 31640.0 THEN '28.281 - 31.640'\n",
    "            WHEN limite_credito >= 31641.0 THEN '31.641 - 35.000'\n",
    "        END AS limite_credito_range,\n",
    "        valor_transacoes_12m,\n",
    "        qtd_transacoes_12m\n",
    "    FROM credito\n",
    ")\n",
    "SELECT\n",
    "    limite_credito_range,\n",
    "    AVG(valor_transacoes_12m) AS valor_12m,\n",
    "    AVG(qtd_transacoes_12m) AS qtde_12m\n",
    "FROM limites\n",
    "GROUP BY limite_credito_range\n",
    "ORDER BY valor_12m"
   ]
  },
  {
   "cell_type": "markdown",
   "id": "fc712782",
   "metadata": {},
   "source": [
    "**<span style=\"color: grey\">RESULTADO<span>**"
   ]
  },
  {
   "cell_type": "markdown",
   "id": "6df3d09b",
   "metadata": {},
   "source": [
    "![5.png](https://github.com/DOEPFER/EBAC-SQL/blob/master/imgs/5.png?raw=true)"
   ]
  },
  {
   "cell_type": "markdown",
   "id": "a7f3bcea",
   "metadata": {},
   "source": [
    "**<span style=\"color: grey\">INSIGHT<span>**"
   ]
  },
  {
   "cell_type": "markdown",
   "id": "897d7939",
   "metadata": {},
   "source": [
    "*<span style=\"color: orange\">Clientes com limite de crédito das faixas 18.201 - 21.560, 11.481 - 14.840 e 31.641 - 35.000 são os que menos gastam considerando o histórico de 12 meses</span>*"
   ]
  }
 ],
 "metadata": {
  "kernelspec": {
   "display_name": "Python 3 (ipykernel)",
   "language": "python",
   "name": "python3"
  },
  "language_info": {
   "codemirror_mode": {
    "name": "ipython",
    "version": 3
   },
   "file_extension": ".py",
   "mimetype": "text/x-python",
   "name": "python",
   "nbconvert_exporter": "python",
   "pygments_lexer": "ipython3",
   "version": "3.9.12"
  }
 },
 "nbformat": 4,
 "nbformat_minor": 5
}
